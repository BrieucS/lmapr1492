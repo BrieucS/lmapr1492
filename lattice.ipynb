{
 "cells": [
  {
   "cell_type": "code",
   "execution_count": 1,
   "id": "lonely-corruption",
   "metadata": {},
   "outputs": [],
   "source": [
    "from pymatgen.ext.matproj import MPRester\n",
    "from pymatgen.core.lattice import Lattice as L\n",
    "from pymatgen import Structure\n",
    "from pymatgen.symmetry.analyzer import SpacegroupAnalyzer\n",
    "\n",
    "with MPRester(\"QpuaQDTCSV1bdImr\") as m:\n",
    "\n",
    "    # Structure for material id\n",
    "    Sr2SnHg = m.get_structure_by_material_id(\"mp-867169\")"
   ]
  },
  {
   "cell_type": "code",
   "execution_count": 3,
   "id": "complete-classification",
   "metadata": {},
   "outputs": [
    {
     "name": "stdout",
     "output_type": "stream",
     "text": [
      "Les 3 vecteurs de bases des son réseau direct sont:\n",
      "0.000000 4.050805 4.050805\n",
      "4.050805 0.000000 4.050805\n",
      "4.050805 4.050805 0.000000\n"
     ]
    }
   ],
   "source": [
    "print(\"Les 3 vecteurs de bases des son réseau direct sont:\")\n",
    "print(Sr2SnHg.lattice)"
   ]
  },
  {
   "cell_type": "code",
   "execution_count": 4,
   "id": "otherwise-appreciation",
   "metadata": {},
   "outputs": [
    {
     "name": "stdout",
     "output_type": "stream",
     "text": [
      "Les 3 vecteurs de bases de son réseau réciproque sont:\n",
      "-0.775548 0.775548 0.775548\n",
      "0.775548 -0.775548 0.775548\n",
      "0.775548 0.775548 -0.775548\n"
     ]
    }
   ],
   "source": [
    "print(\"Les 3 vecteurs de bases de son réseau réciproque sont:\")\n",
    "print(Sr2SnHg.lattice.reciprocal_lattice)"
   ]
  },
  {
   "cell_type": "code",
   "execution_count": 5,
   "id": "geographic-holmes",
   "metadata": {},
   "outputs": [
    {
     "name": "stdout",
     "output_type": "stream",
     "text": [
      "son type maille est : cubic\n",
      "son systeme crystallin est : cubic\n",
      "son groupe ponctuel est : m-3m\n"
     ]
    }
   ],
   "source": [
    "print(\"son type maille est :\",SpacegroupAnalyzer(Sr2SnHg).get_lattice_type())\n",
    "print(\"son systeme crystallin est :\",SpacegroupAnalyzer(Sr2SnHg).get_crystal_system())\n",
    "print(\"son groupe ponctuel est :\",SpacegroupAnalyzer(Sr2SnHg).get_point_group_symbol())"
   ]
  },
  {
   "cell_type": "code",
   "execution_count": null,
   "id": "a5aa1ecf",
   "metadata": {},
   "outputs": [],
   "source": []
  }
 ],
 "metadata": {
  "kernelspec": {
   "display_name": "Python 3",
   "language": "python",
   "name": "python3"
  },
  "language_info": {
   "codemirror_mode": {
    "name": "ipython",
    "version": 3
   },
   "file_extension": ".py",
   "mimetype": "text/x-python",
   "name": "python",
   "nbconvert_exporter": "python",
   "pygments_lexer": "ipython3",
   "version": "3.6.8"
  }
 },
 "nbformat": 4,
 "nbformat_minor": 5
}
