{
 "cells": [
  {
   "cell_type": "code",
   "execution_count": 23,
   "id": "typical-plenty",
   "metadata": {},
   "outputs": [],
   "source": [
    "from pymatgen.ext.matproj import MPRester\n",
    "from pymatgen import Structure\n",
    "from jupyter_jsmol.pymatgen import quick_view"
   ]
  },
  {
   "cell_type": "code",
   "execution_count": 24,
   "id": "informational-german",
   "metadata": {},
   "outputs": [],
   "source": [
    "with MPRester(\"QpuaQDTCSV1bdImr\") as m:\n",
    "\n",
    "    # Structure for material id\n",
    "    Sr2SnHg = m.get_structure_by_material_id(\"mp-867169\")"
   ]
  },
  {
   "cell_type": "code",
   "execution_count": 40,
   "id": "ecological-sigma",
   "metadata": {
    "scrolled": true
   },
   "outputs": [
    {
     "data": {
      "application/vnd.jupyter.widget-view+json": {
       "model_id": "672ba59206d8443f836e91c75712c1ef",
       "version_major": 2,
       "version_minor": 0
      },
      "text/plain": [
       "JsmolView(layout=Layout(align_self='stretch', height='400px'))"
      ]
     },
     "metadata": {},
     "output_type": "display_data"
    }
   ],
   "source": [
    "view = quick_view(Sr2SnHg)\n",
    "display(view)"
   ]
  },
  {
   "cell_type": "code",
   "execution_count": 51,
   "id": "acquired-nurse",
   "metadata": {},
   "outputs": [],
   "source": [
    "view.script('draw symop 2 {atomno=1}')"
   ]
  },
  {
   "cell_type": "markdown",
   "id": "studied-fireplace",
   "metadata": {},
   "source": [
    "la première symétrie a pour équation: x, y, z -> -x, -y, -z.\n",
    "\n",
    "Cette symétrie est une inversion de centre (0,0,0).\n",
    " "
   ]
  },
  {
   "cell_type": "code",
   "execution_count": 52,
   "id": "narrow-complaint",
   "metadata": {},
   "outputs": [],
   "source": [
    "view.script('draw symop 3 {atomno=4}')"
   ]
  },
  {
   "cell_type": "markdown",
   "id": "impossible-progressive",
   "metadata": {},
   "source": [
    "La seconde symétrie a pour équation: x, y, z -> x+y+z, -z, -x.\n",
    "\n",
    "Cette symétrie est une rotation d'ordre 4 (C4): l'atome 4 effectue une rotation d'angle pi/2"
   ]
  },
  {
   "cell_type": "code",
   "execution_count": 53,
   "id": "excellent-drove",
   "metadata": {},
   "outputs": [],
   "source": [
    "view.script('draw symop 20 {atomno=3}')"
   ]
  },
  {
   "cell_type": "markdown",
   "id": "cordless-morris",
   "metadata": {},
   "source": [
    "la troisième symétrie a pour équation: x, y, z -> x, -x-y-z, z.\n",
    "\n",
    "Cette symétrie est une refléxion par rapport au plan au plan miroir."
   ]
  }
 ],
 "metadata": {
  "kernelspec": {
   "display_name": "Python 3",
   "language": "python",
   "name": "python3"
  },
  "language_info": {
   "codemirror_mode": {
    "name": "ipython",
    "version": 3
   },
   "file_extension": ".py",
   "mimetype": "text/x-python",
   "name": "python",
   "nbconvert_exporter": "python",
   "pygments_lexer": "ipython3",
   "version": "3.6.8"
  }
 },
 "nbformat": 4,
 "nbformat_minor": 5
}
